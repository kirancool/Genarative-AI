{
  "nbformat": 4,
  "nbformat_minor": 0,
  "metadata": {
    "colab": {
      "provenance": [],
      "gpuType": "T4"
    },
    "kernelspec": {
      "name": "python3",
      "display_name": "Python 3"
    },
    "language_info": {
      "name": "python"
    },
    "accelerator": "GPU"
  },
  "cells": [
    {
      "cell_type": "code",
      "execution_count": null,
      "metadata": {
        "colab": {
          "base_uri": "https://localhost:8080/",
          "height": 1000
        },
        "id": "s4IelRAHtP-d",
        "outputId": "14a26ab9-35fe-41f8-bf89-b02fea9d810f"
      },
      "outputs": [
        {
          "output_type": "stream",
          "name": "stdout",
          "text": [
            "Looking in indexes: https://pypi.org/simple, https://pypi.nvidia.com\n",
            "Collecting cudf-cu11\n",
            "  Downloading https://pypi.nvidia.com/cudf-cu11/cudf_cu11-24.10.1-cp310-cp310-manylinux_2_24_x86_64.manylinux_2_28_x86_64.whl (24.3 MB)\n",
            "\u001b[2K     \u001b[90m━━━━━━━━━━━━━━━━━━━━━━━━━━━━━━━━━━━━━━━━\u001b[0m \u001b[32m24.3/24.3 MB\u001b[0m \u001b[31m80.0 MB/s\u001b[0m eta \u001b[36m0:00:00\u001b[0m\n",
            "\u001b[?25hRequirement already satisfied: cachetools in /usr/local/lib/python3.10/dist-packages (from cudf-cu11) (5.5.0)\n",
            "Collecting cubinlinker-cu11 (from cudf-cu11)\n",
            "  Downloading https://pypi.nvidia.com/cubinlinker-cu11/cubinlinker_cu11-0.3.0.post2-cp310-cp310-manylinux_2_17_x86_64.manylinux2014_x86_64.whl (8.8 MB)\n",
            "\u001b[2K     \u001b[90m━━━━━━━━━━━━━━━━━━━━━━━━━━━━━━━━━━━━━━━━\u001b[0m \u001b[32m8.8/8.8 MB\u001b[0m \u001b[31m107.5 MB/s\u001b[0m eta \u001b[36m0:00:00\u001b[0m\n",
            "\u001b[?25hCollecting cuda-python<12.0a0,>=11.7.1 (from cudf-cu11)\n",
            "  Downloading cuda_python-11.8.5.post1-cp310-cp310-manylinux_2_17_x86_64.manylinux2014_x86_64.whl.metadata (12 kB)\n",
            "Collecting cupy-cuda11x>=12.0.0 (from cudf-cu11)\n",
            "  Downloading cupy_cuda11x-13.3.0-cp310-cp310-manylinux2014_x86_64.whl.metadata (2.7 kB)\n",
            "Requirement already satisfied: fsspec>=0.6.0 in /usr/local/lib/python3.10/dist-packages (from cudf-cu11) (2024.10.0)\n",
            "Collecting libcudf-cu11==24.10.* (from cudf-cu11)\n",
            "  Downloading https://pypi.nvidia.com/libcudf-cu11/libcudf_cu11-24.10.1-py3-none-manylinux_2_28_x86_64.whl (502.8 MB)\n",
            "\u001b[2K     \u001b[90m━━━━━━━━━━━━━━━━━━━━━━━━━━━━━━━━━━━━━━━━\u001b[0m \u001b[32m502.8/502.8 MB\u001b[0m \u001b[31m3.4 MB/s\u001b[0m eta \u001b[36m0:00:00\u001b[0m\n",
            "\u001b[?25hRequirement already satisfied: numba>=0.57 in /usr/local/lib/python3.10/dist-packages (from cudf-cu11) (0.60.0)\n",
            "Requirement already satisfied: numpy<3.0a0,>=1.23 in /usr/local/lib/python3.10/dist-packages (from cudf-cu11) (1.26.4)\n",
            "Requirement already satisfied: nvtx>=0.2.1 in /usr/local/lib/python3.10/dist-packages (from cudf-cu11) (0.2.10)\n",
            "Requirement already satisfied: packaging in /usr/local/lib/python3.10/dist-packages (from cudf-cu11) (24.2)\n",
            "Requirement already satisfied: pandas<2.2.3dev0,>=2.0 in /usr/local/lib/python3.10/dist-packages (from cudf-cu11) (2.2.2)\n",
            "Collecting ptxcompiler-cu11 (from cudf-cu11)\n",
            "  Downloading https://pypi.nvidia.com/ptxcompiler-cu11/ptxcompiler_cu11-0.8.1.post2-cp310-cp310-manylinux_2_17_x86_64.manylinux2014_x86_64.manylinux_2_28_x86_64.whl (8.7 MB)\n",
            "\u001b[2K     \u001b[90m━━━━━━━━━━━━━━━━━━━━━━━━━━━━━━━━━━━━━━━━\u001b[0m \u001b[32m8.7/8.7 MB\u001b[0m \u001b[31m111.5 MB/s\u001b[0m eta \u001b[36m0:00:00\u001b[0m\n",
            "\u001b[?25hRequirement already satisfied: pyarrow<18.0.0a0,>=14.0.0 in /usr/local/lib/python3.10/dist-packages (from cudf-cu11) (17.0.0)\n",
            "Collecting pylibcudf-cu11==24.10.* (from cudf-cu11)\n",
            "  Downloading https://pypi.nvidia.com/pylibcudf-cu11/pylibcudf_cu11-24.10.1-cp310-cp310-manylinux_2_24_x86_64.manylinux_2_28_x86_64.whl (20.0 MB)\n",
            "\u001b[2K     \u001b[90m━━━━━━━━━━━━━━━━━━━━━━━━━━━━━━━━━━━━━━━━\u001b[0m \u001b[32m20.0/20.0 MB\u001b[0m \u001b[31m90.4 MB/s\u001b[0m eta \u001b[36m0:00:00\u001b[0m\n",
            "\u001b[?25hRequirement already satisfied: rich in /usr/local/lib/python3.10/dist-packages (from cudf-cu11) (13.9.4)\n",
            "Collecting rmm-cu11==24.10.* (from cudf-cu11)\n",
            "  Downloading https://pypi.nvidia.com/rmm-cu11/rmm_cu11-24.10.0-cp310-cp310-manylinux_2_24_x86_64.manylinux_2_28_x86_64.whl (1.7 MB)\n",
            "\u001b[2K     \u001b[90m━━━━━━━━━━━━━━━━━━━━━━━━━━━━━━━━━━━━━━━━\u001b[0m \u001b[32m1.7/1.7 MB\u001b[0m \u001b[31m73.6 MB/s\u001b[0m eta \u001b[36m0:00:00\u001b[0m\n",
            "\u001b[?25hRequirement already satisfied: typing_extensions>=4.0.0 in /usr/local/lib/python3.10/dist-packages (from cudf-cu11) (4.12.2)\n",
            "Requirement already satisfied: fastrlock>=0.5 in /usr/local/lib/python3.10/dist-packages (from cupy-cuda11x>=12.0.0->cudf-cu11) (0.8.2)\n",
            "Requirement already satisfied: llvmlite<0.44,>=0.43.0dev0 in /usr/local/lib/python3.10/dist-packages (from numba>=0.57->cudf-cu11) (0.43.0)\n",
            "Requirement already satisfied: python-dateutil>=2.8.2 in /usr/local/lib/python3.10/dist-packages (from pandas<2.2.3dev0,>=2.0->cudf-cu11) (2.8.2)\n",
            "Requirement already satisfied: pytz>=2020.1 in /usr/local/lib/python3.10/dist-packages (from pandas<2.2.3dev0,>=2.0->cudf-cu11) (2024.2)\n",
            "Requirement already satisfied: tzdata>=2022.7 in /usr/local/lib/python3.10/dist-packages (from pandas<2.2.3dev0,>=2.0->cudf-cu11) (2024.2)\n",
            "Requirement already satisfied: markdown-it-py>=2.2.0 in /usr/local/lib/python3.10/dist-packages (from rich->cudf-cu11) (3.0.0)\n",
            "Requirement already satisfied: pygments<3.0.0,>=2.13.0 in /usr/local/lib/python3.10/dist-packages (from rich->cudf-cu11) (2.18.0)\n",
            "Requirement already satisfied: mdurl~=0.1 in /usr/local/lib/python3.10/dist-packages (from markdown-it-py>=2.2.0->rich->cudf-cu11) (0.1.2)\n",
            "Requirement already satisfied: six>=1.5 in /usr/local/lib/python3.10/dist-packages (from python-dateutil>=2.8.2->pandas<2.2.3dev0,>=2.0->cudf-cu11) (1.16.0)\n",
            "Downloading cuda_python-11.8.5.post1-cp310-cp310-manylinux_2_17_x86_64.manylinux2014_x86_64.whl (19.6 MB)\n",
            "\u001b[2K   \u001b[90m━━━━━━━━━━━━━━━━━━━━━━━━━━━━━━━━━━━━━━━━\u001b[0m \u001b[32m19.6/19.6 MB\u001b[0m \u001b[31m87.5 MB/s\u001b[0m eta \u001b[36m0:00:00\u001b[0m\n",
            "\u001b[?25hDownloading cupy_cuda11x-13.3.0-cp310-cp310-manylinux2014_x86_64.whl (96.6 MB)\n",
            "\u001b[2K   \u001b[90m━━━━━━━━━━━━━━━━━━━━━━━━━━━━━━━━━━━━━━━━\u001b[0m \u001b[32m96.6/96.6 MB\u001b[0m \u001b[31m8.8 MB/s\u001b[0m eta \u001b[36m0:00:00\u001b[0m\n",
            "\u001b[?25hInstalling collected packages: ptxcompiler-cu11, cuda-python, libcudf-cu11, cupy-cuda11x, cubinlinker-cu11, rmm-cu11, pylibcudf-cu11, cudf-cu11\n",
            "  Attempting uninstall: cuda-python\n",
            "    Found existing installation: cuda-python 12.2.1\n",
            "    Uninstalling cuda-python-12.2.1:\n",
            "      Successfully uninstalled cuda-python-12.2.1\n",
            "\u001b[31mERROR: pip's dependency resolver does not currently take into account all the packages that are installed. This behaviour is the source of the following dependency conflicts.\n",
            "cudf-cu12 24.10.1 requires cuda-python<13.0a0,>=12.0, but you have cuda-python 11.8.5.post1 which is incompatible.\n",
            "pylibcudf-cu12 24.10.1 requires cuda-python<13.0a0,>=12.0, but you have cuda-python 11.8.5.post1 which is incompatible.\n",
            "pylibraft-cu12 24.10.0 requires cuda-python<13.0a0,>=12.0, but you have cuda-python 11.8.5.post1 which is incompatible.\n",
            "rmm-cu12 24.10.0 requires cuda-python<13.0a0,>=12.0, but you have cuda-python 11.8.5.post1 which is incompatible.\u001b[0m\u001b[31m\n",
            "\u001b[0mSuccessfully installed cubinlinker-cu11-0.3.0.post2 cuda-python-11.8.5.post1 cudf-cu11-24.10.1 cupy-cuda11x-13.3.0 libcudf-cu11-24.10.1 ptxcompiler-cu11-0.8.1.post2 pylibcudf-cu11-24.10.1 rmm-cu11-24.10.0\n"
          ]
        },
        {
          "output_type": "display_data",
          "data": {
            "application/vnd.colab-display-data+json": {
              "pip_warning": {
                "packages": [
                  "cuda",
                  "cupy",
                  "cupy_backends",
                  "cupyx"
                ]
              },
              "id": "1900e065cd0a4705b67d3714c78455b8"
            }
          },
          "metadata": {}
        }
      ],
      "source": [
        "!pip install cudf-cu11 --extra-index-url=https://pypi.nvidia.com"
      ]
    },
    {
      "cell_type": "code",
      "source": [],
      "metadata": {
        "id": "IYIOK87Tu_Bu"
      },
      "execution_count": null,
      "outputs": []
    },
    {
      "cell_type": "code",
      "source": [
        "!pip install plotly-express"
      ],
      "metadata": {
        "colab": {
          "base_uri": "https://localhost:8080/"
        },
        "id": "-mxYj_gdu_S8",
        "outputId": "fe923bd2-fb67-4931-dd33-601e53f7a3ea"
      },
      "execution_count": null,
      "outputs": [
        {
          "output_type": "stream",
          "name": "stdout",
          "text": [
            "Collecting plotly-express\n",
            "  Downloading plotly_express-0.4.1-py2.py3-none-any.whl.metadata (1.7 kB)\n",
            "Requirement already satisfied: pandas>=0.20.0 in /usr/local/lib/python3.10/dist-packages (from plotly-express) (2.2.2)\n",
            "Requirement already satisfied: plotly>=4.1.0 in /usr/local/lib/python3.10/dist-packages (from plotly-express) (5.24.1)\n",
            "Requirement already satisfied: statsmodels>=0.9.0 in /usr/local/lib/python3.10/dist-packages (from plotly-express) (0.14.4)\n",
            "Requirement already satisfied: scipy>=0.18 in /usr/local/lib/python3.10/dist-packages (from plotly-express) (1.13.1)\n",
            "Requirement already satisfied: patsy>=0.5 in /usr/local/lib/python3.10/dist-packages (from plotly-express) (1.0.1)\n",
            "Requirement already satisfied: numpy>=1.11 in /usr/local/lib/python3.10/dist-packages (from plotly-express) (1.26.4)\n",
            "Requirement already satisfied: python-dateutil>=2.8.2 in /usr/local/lib/python3.10/dist-packages (from pandas>=0.20.0->plotly-express) (2.8.2)\n",
            "Requirement already satisfied: pytz>=2020.1 in /usr/local/lib/python3.10/dist-packages (from pandas>=0.20.0->plotly-express) (2024.2)\n",
            "Requirement already satisfied: tzdata>=2022.7 in /usr/local/lib/python3.10/dist-packages (from pandas>=0.20.0->plotly-express) (2024.2)\n",
            "Requirement already satisfied: tenacity>=6.2.0 in /usr/local/lib/python3.10/dist-packages (from plotly>=4.1.0->plotly-express) (9.0.0)\n",
            "Requirement already satisfied: packaging in /usr/local/lib/python3.10/dist-packages (from plotly>=4.1.0->plotly-express) (24.2)\n",
            "Requirement already satisfied: six>=1.5 in /usr/local/lib/python3.10/dist-packages (from python-dateutil>=2.8.2->pandas>=0.20.0->plotly-express) (1.16.0)\n",
            "Downloading plotly_express-0.4.1-py2.py3-none-any.whl (2.9 kB)\n",
            "Installing collected packages: plotly-express\n",
            "Successfully installed plotly-express-0.4.1\n"
          ]
        }
      ]
    },
    {
      "cell_type": "code",
      "source": [
        "!wget https://data.rapids.ai/datasets/nyc_parking/nyc_parking_violations_2022.parquet"
      ],
      "metadata": {
        "colab": {
          "base_uri": "https://localhost:8080/"
        },
        "id": "07I2V0Keu_Wl",
        "outputId": "dbf35eb7-60d5-4b7f-8540-91c95102da80"
      },
      "execution_count": null,
      "outputs": [
        {
          "output_type": "stream",
          "name": "stdout",
          "text": [
            "--2024-11-26 04:00:50--  https://data.rapids.ai/datasets/nyc_parking/nyc_parking_violations_2022.parquet\n",
            "Resolving data.rapids.ai (data.rapids.ai)... 13.226.228.97, 13.226.228.31, 13.226.228.119, ...\n",
            "Connecting to data.rapids.ai (data.rapids.ai)|13.226.228.97|:443... connected.\n",
            "HTTP request sent, awaiting response... 200 OK\n",
            "Length: 474211285 (452M) [binary/octet-stream]\n",
            "Saving to: ‘nyc_parking_violations_2022.parquet’\n",
            "\n",
            "nyc_parking_violati 100%[===================>] 452.24M  62.8MB/s    in 7.7s    \n",
            "\n",
            "2024-11-26 04:00:58 (58.6 MB/s) - ‘nyc_parking_violations_2022.parquet’ saved [474211285/474211285]\n",
            "\n"
          ]
        }
      ]
    },
    {
      "cell_type": "code",
      "source": [],
      "metadata": {
        "id": "y0GtJF5Ju_Z9"
      },
      "execution_count": null,
      "outputs": []
    },
    {
      "cell_type": "markdown",
      "source": [
        "# Basic Pandas Operations"
      ],
      "metadata": {
        "id": "yL6jO_EYxHlV"
      }
    },
    {
      "cell_type": "code",
      "source": [
        "import pandas as pd"
      ],
      "metadata": {
        "id": "H8YsOnwuu_dX"
      },
      "execution_count": null,
      "outputs": []
    },
    {
      "cell_type": "code",
      "source": [
        "%%time\n",
        "df = pd.read_parquet(\"nyc_parking_violations_2022.parquet\",columns=[\"Registration State\",\"Violation Description\",\"Vehicle Body Type\",\"Issue Date\",\"Summons Number\"])"
      ],
      "metadata": {
        "id": "8kRyhgDbu_fh",
        "colab": {
          "base_uri": "https://localhost:8080/"
        },
        "outputId": "17c1dad1-8da1-4287-f077-c37319d5f3fd"
      },
      "execution_count": null,
      "outputs": [
        {
          "output_type": "stream",
          "name": "stdout",
          "text": [
            "CPU times: user 287 ms, sys: 28.1 ms, total: 316 ms\n",
            "Wall time: 357 ms\n"
          ]
        }
      ]
    },
    {
      "cell_type": "code",
      "source": [
        "%%time\n",
        "df.sample(10)"
      ],
      "metadata": {
        "colab": {
          "base_uri": "https://localhost:8080/",
          "height": 397
        },
        "id": "eBjnn_3bu_jb",
        "outputId": "7f4e4e58-9708-4784-df2e-6acb8e3735e8"
      },
      "execution_count": null,
      "outputs": [
        {
          "output_type": "stream",
          "name": "stdout",
          "text": [
            "CPU times: user 2.62 s, sys: 1.44 s, total: 4.07 s\n",
            "Wall time: 3.96 s\n"
          ]
        },
        {
          "output_type": "execute_result",
          "data": {
            "text/plain": [
              "         Registration State           Violation Description Vehicle Body Type  \\\n",
              "3350743                  NY  PHTO SCHOOL ZN SPEED VIOLATION              SUBN   \n",
              "8827836                  NY        20A-No Parking (Non-COM)              SUBN   \n",
              "491311                   NJ    21-No Parking (street clean)              SUBN   \n",
              "10105694                 NY  PHTO SCHOOL ZN SPEED VIOLATION              PICK   \n",
              "4886073                  NY  70A-Reg. Sticker Expired (NYS)              4DSD   \n",
              "7116791                  NY  PHTO SCHOOL ZN SPEED VIOLATION              SUBN   \n",
              "7767974                  NY    21-No Parking (street clean)               VAN   \n",
              "10999034                 NY  69-Fail to Dsp Prking Mtr Rcpt               VAN   \n",
              "6601435                  NY  38-Failure to Dsplay Meter Rec              4DSD   \n",
              "5639997                  FL    21-No Parking (street clean)              4DSD   \n",
              "\n",
              "          Issue Date  Summons Number  \n",
              "3350743   09/01/2021      4747083236  \n",
              "8827836   01/06/2022      8919027110  \n",
              "491311    07/15/2021      8882968261  \n",
              "10105694  03/09/2022      4770773560  \n",
              "4886073   10/13/2021      8869028616  \n",
              "7116791   11/29/2021      4758467018  \n",
              "7767974   11/26/2021      8945668536  \n",
              "10999034  03/03/2022      8862329039  \n",
              "6601435   11/15/2021      8983698767  \n",
              "5639997   10/28/2021      8902013261  "
            ],
            "text/html": [
              "<div>\n",
              "<style scoped>\n",
              "    .dataframe tbody tr th:only-of-type {\n",
              "        vertical-align: middle;\n",
              "    }\n",
              "\n",
              "    .dataframe tbody tr th {\n",
              "        vertical-align: top;\n",
              "    }\n",
              "\n",
              "    .dataframe thead th {\n",
              "        text-align: right;\n",
              "    }\n",
              "</style>\n",
              "<table border=\"1\" class=\"dataframe\">\n",
              "  <thead>\n",
              "    <tr style=\"text-align: right;\">\n",
              "      <th></th>\n",
              "      <th>Registration State</th>\n",
              "      <th>Violation Description</th>\n",
              "      <th>Vehicle Body Type</th>\n",
              "      <th>Issue Date</th>\n",
              "      <th>Summons Number</th>\n",
              "    </tr>\n",
              "  </thead>\n",
              "  <tbody>\n",
              "    <tr>\n",
              "      <th>3350743</th>\n",
              "      <td>NY</td>\n",
              "      <td>PHTO SCHOOL ZN SPEED VIOLATION</td>\n",
              "      <td>SUBN</td>\n",
              "      <td>09/01/2021</td>\n",
              "      <td>4747083236</td>\n",
              "    </tr>\n",
              "    <tr>\n",
              "      <th>8827836</th>\n",
              "      <td>NY</td>\n",
              "      <td>20A-No Parking (Non-COM)</td>\n",
              "      <td>SUBN</td>\n",
              "      <td>01/06/2022</td>\n",
              "      <td>8919027110</td>\n",
              "    </tr>\n",
              "    <tr>\n",
              "      <th>491311</th>\n",
              "      <td>NJ</td>\n",
              "      <td>21-No Parking (street clean)</td>\n",
              "      <td>SUBN</td>\n",
              "      <td>07/15/2021</td>\n",
              "      <td>8882968261</td>\n",
              "    </tr>\n",
              "    <tr>\n",
              "      <th>10105694</th>\n",
              "      <td>NY</td>\n",
              "      <td>PHTO SCHOOL ZN SPEED VIOLATION</td>\n",
              "      <td>PICK</td>\n",
              "      <td>03/09/2022</td>\n",
              "      <td>4770773560</td>\n",
              "    </tr>\n",
              "    <tr>\n",
              "      <th>4886073</th>\n",
              "      <td>NY</td>\n",
              "      <td>70A-Reg. Sticker Expired (NYS)</td>\n",
              "      <td>4DSD</td>\n",
              "      <td>10/13/2021</td>\n",
              "      <td>8869028616</td>\n",
              "    </tr>\n",
              "    <tr>\n",
              "      <th>7116791</th>\n",
              "      <td>NY</td>\n",
              "      <td>PHTO SCHOOL ZN SPEED VIOLATION</td>\n",
              "      <td>SUBN</td>\n",
              "      <td>11/29/2021</td>\n",
              "      <td>4758467018</td>\n",
              "    </tr>\n",
              "    <tr>\n",
              "      <th>7767974</th>\n",
              "      <td>NY</td>\n",
              "      <td>21-No Parking (street clean)</td>\n",
              "      <td>VAN</td>\n",
              "      <td>11/26/2021</td>\n",
              "      <td>8945668536</td>\n",
              "    </tr>\n",
              "    <tr>\n",
              "      <th>10999034</th>\n",
              "      <td>NY</td>\n",
              "      <td>69-Fail to Dsp Prking Mtr Rcpt</td>\n",
              "      <td>VAN</td>\n",
              "      <td>03/03/2022</td>\n",
              "      <td>8862329039</td>\n",
              "    </tr>\n",
              "    <tr>\n",
              "      <th>6601435</th>\n",
              "      <td>NY</td>\n",
              "      <td>38-Failure to Dsplay Meter Rec</td>\n",
              "      <td>4DSD</td>\n",
              "      <td>11/15/2021</td>\n",
              "      <td>8983698767</td>\n",
              "    </tr>\n",
              "    <tr>\n",
              "      <th>5639997</th>\n",
              "      <td>FL</td>\n",
              "      <td>21-No Parking (street clean)</td>\n",
              "      <td>4DSD</td>\n",
              "      <td>10/28/2021</td>\n",
              "      <td>8902013261</td>\n",
              "    </tr>\n",
              "  </tbody>\n",
              "</table>\n",
              "</div>"
            ],
            "application/vnd.google.colaboratory.intrinsic+json": {
              "type": "dataframe",
              "repr_error": "0"
            }
          },
          "metadata": {},
          "execution_count": 15
        }
      ]
    },
    {
      "cell_type": "code",
      "source": [
        "%%time\n",
        "(df[[\"Registration State\",\"Violation Description\"]].value_counts().groupby(\"Registration State\").head(1).sort_index().reset_index())"
      ],
      "metadata": {
        "colab": {
          "base_uri": "https://localhost:8080/",
          "height": 458
        },
        "id": "k2CNf4EKy8y0",
        "outputId": "b19dd917-9a55-4fce-cd4e-e5f597c20588"
      },
      "execution_count": null,
      "outputs": [
        {
          "output_type": "stream",
          "name": "stdout",
          "text": [
            "CPU times: user 22 s, sys: 2.88 s, total: 24.9 s\n",
            "Wall time: 25.1 s\n"
          ]
        },
        {
          "output_type": "execute_result",
          "data": {
            "text/plain": [
              "   Registration State           Violation Description  count\n",
              "0                  99                            <NA>  17550\n",
              "1                  AB                  14-No Standing     22\n",
              "2                  AK  PHTO SCHOOL ZN SPEED VIOLATION    125\n",
              "3                  AL  PHTO SCHOOL ZN SPEED VIOLATION   3668\n",
              "4                  AR  PHTO SCHOOL ZN SPEED VIOLATION    537\n",
              "..                ...                             ...    ...\n",
              "62                 VT  PHTO SCHOOL ZN SPEED VIOLATION   3024\n",
              "63                 WA    21-No Parking (street clean)   3732\n",
              "64                 WI                  14-No Standing   1639\n",
              "65                 WV  PHTO SCHOOL ZN SPEED VIOLATION   1185\n",
              "66                 WY    21-No Parking (street clean)    138\n",
              "\n",
              "[67 rows x 3 columns]"
            ],
            "text/html": [
              "<div>\n",
              "<style scoped>\n",
              "    .dataframe tbody tr th:only-of-type {\n",
              "        vertical-align: middle;\n",
              "    }\n",
              "\n",
              "    .dataframe tbody tr th {\n",
              "        vertical-align: top;\n",
              "    }\n",
              "\n",
              "    .dataframe thead th {\n",
              "        text-align: right;\n",
              "    }\n",
              "</style>\n",
              "<table border=\"1\" class=\"dataframe\">\n",
              "  <thead>\n",
              "    <tr style=\"text-align: right;\">\n",
              "      <th></th>\n",
              "      <th>Registration State</th>\n",
              "      <th>Violation Description</th>\n",
              "      <th>count</th>\n",
              "    </tr>\n",
              "  </thead>\n",
              "  <tbody>\n",
              "    <tr>\n",
              "      <th>0</th>\n",
              "      <td>99</td>\n",
              "      <td>&lt;NA&gt;</td>\n",
              "      <td>17550</td>\n",
              "    </tr>\n",
              "    <tr>\n",
              "      <th>1</th>\n",
              "      <td>AB</td>\n",
              "      <td>14-No Standing</td>\n",
              "      <td>22</td>\n",
              "    </tr>\n",
              "    <tr>\n",
              "      <th>2</th>\n",
              "      <td>AK</td>\n",
              "      <td>PHTO SCHOOL ZN SPEED VIOLATION</td>\n",
              "      <td>125</td>\n",
              "    </tr>\n",
              "    <tr>\n",
              "      <th>3</th>\n",
              "      <td>AL</td>\n",
              "      <td>PHTO SCHOOL ZN SPEED VIOLATION</td>\n",
              "      <td>3668</td>\n",
              "    </tr>\n",
              "    <tr>\n",
              "      <th>4</th>\n",
              "      <td>AR</td>\n",
              "      <td>PHTO SCHOOL ZN SPEED VIOLATION</td>\n",
              "      <td>537</td>\n",
              "    </tr>\n",
              "    <tr>\n",
              "      <th>...</th>\n",
              "      <td>...</td>\n",
              "      <td>...</td>\n",
              "      <td>...</td>\n",
              "    </tr>\n",
              "    <tr>\n",
              "      <th>62</th>\n",
              "      <td>VT</td>\n",
              "      <td>PHTO SCHOOL ZN SPEED VIOLATION</td>\n",
              "      <td>3024</td>\n",
              "    </tr>\n",
              "    <tr>\n",
              "      <th>63</th>\n",
              "      <td>WA</td>\n",
              "      <td>21-No Parking (street clean)</td>\n",
              "      <td>3732</td>\n",
              "    </tr>\n",
              "    <tr>\n",
              "      <th>64</th>\n",
              "      <td>WI</td>\n",
              "      <td>14-No Standing</td>\n",
              "      <td>1639</td>\n",
              "    </tr>\n",
              "    <tr>\n",
              "      <th>65</th>\n",
              "      <td>WV</td>\n",
              "      <td>PHTO SCHOOL ZN SPEED VIOLATION</td>\n",
              "      <td>1185</td>\n",
              "    </tr>\n",
              "    <tr>\n",
              "      <th>66</th>\n",
              "      <td>WY</td>\n",
              "      <td>21-No Parking (street clean)</td>\n",
              "      <td>138</td>\n",
              "    </tr>\n",
              "  </tbody>\n",
              "</table>\n",
              "<p>67 rows × 3 columns</p>\n",
              "</div>"
            ],
            "application/vnd.google.colaboratory.intrinsic+json": {
              "type": "dataframe",
              "summary": "{\n  \"name\": \"get_ipython()\",\n  \"rows\": 67,\n  \"fields\": [\n    {\n      \"column\": \"Registration State\",\n      \"properties\": {\n        \"dtype\": \"string\",\n        \"num_unique_values\": 67,\n        \"samples\": [\n          \"NC\",\n          \"GV\",\n          \"AR\"\n        ],\n        \"semantic_type\": \"\",\n        \"description\": \"\"\n      }\n    },\n    {\n      \"column\": \"Violation Description\",\n      \"properties\": {\n        \"dtype\": \"category\",\n        \"num_unique_values\": 8,\n        \"samples\": [\n          \"14-No Standing\",\n          \"21-No Parking (street clean)\",\n          \"<NA>\"\n        ],\n        \"semantic_type\": \"\",\n        \"description\": \"\"\n      }\n    },\n    {\n      \"column\": \"count\",\n      \"properties\": {\n        \"dtype\": \"number\",\n        \"std\": 458031,\n        \"min\": 1,\n        \"max\": 3743378,\n        \"num_unique_values\": 67,\n        \"samples\": [\n          31102,\n          2451,\n          537\n        ],\n        \"semantic_type\": \"\",\n        \"description\": \"\"\n      }\n    }\n  ]\n}"
            }
          },
          "metadata": {},
          "execution_count": 16
        }
      ]
    },
    {
      "cell_type": "code",
      "source": [
        "%%time\n",
        "(df.groupby([\"Vehicle Body Type\"]).agg({\"Summons Number\":\"count\"}).sort_values([\"Summons Number\"],ascending=False))"
      ],
      "metadata": {
        "colab": {
          "base_uri": "https://localhost:8080/",
          "height": 489
        },
        "id": "tu6QpLg7y9Gz",
        "outputId": "7c1aaba7-5ca0-445e-f3c0-126d99c1f4f8"
      },
      "execution_count": null,
      "outputs": [
        {
          "output_type": "stream",
          "name": "stdout",
          "text": [
            "CPU times: user 25.1 ms, sys: 3.14 ms, total: 28.3 ms\n",
            "Wall time: 27.4 ms\n"
          ]
        },
        {
          "output_type": "execute_result",
          "data": {
            "text/plain": [
              "                   Summons Number\n",
              "Vehicle Body Type                \n",
              "SUBN                      6449007\n",
              "4DSD                      4402991\n",
              "VAN                       1317899\n",
              "DELV                       436430\n",
              "PICK                       429798\n",
              "...                           ...\n",
              "YANT                            1\n",
              "YBSD                            1\n",
              "YEL                             1\n",
              "YL                              1\n",
              "Z1UT                            1\n",
              "\n",
              "[967 rows x 1 columns]"
            ],
            "text/html": [
              "<div>\n",
              "<style scoped>\n",
              "    .dataframe tbody tr th:only-of-type {\n",
              "        vertical-align: middle;\n",
              "    }\n",
              "\n",
              "    .dataframe tbody tr th {\n",
              "        vertical-align: top;\n",
              "    }\n",
              "\n",
              "    .dataframe thead th {\n",
              "        text-align: right;\n",
              "    }\n",
              "</style>\n",
              "<table border=\"1\" class=\"dataframe\">\n",
              "  <thead>\n",
              "    <tr style=\"text-align: right;\">\n",
              "      <th></th>\n",
              "      <th>Summons Number</th>\n",
              "    </tr>\n",
              "    <tr>\n",
              "      <th>Vehicle Body Type</th>\n",
              "      <th></th>\n",
              "    </tr>\n",
              "  </thead>\n",
              "  <tbody>\n",
              "    <tr>\n",
              "      <th>SUBN</th>\n",
              "      <td>6449007</td>\n",
              "    </tr>\n",
              "    <tr>\n",
              "      <th>4DSD</th>\n",
              "      <td>4402991</td>\n",
              "    </tr>\n",
              "    <tr>\n",
              "      <th>VAN</th>\n",
              "      <td>1317899</td>\n",
              "    </tr>\n",
              "    <tr>\n",
              "      <th>DELV</th>\n",
              "      <td>436430</td>\n",
              "    </tr>\n",
              "    <tr>\n",
              "      <th>PICK</th>\n",
              "      <td>429798</td>\n",
              "    </tr>\n",
              "    <tr>\n",
              "      <th>...</th>\n",
              "      <td>...</td>\n",
              "    </tr>\n",
              "    <tr>\n",
              "      <th>YANT</th>\n",
              "      <td>1</td>\n",
              "    </tr>\n",
              "    <tr>\n",
              "      <th>YBSD</th>\n",
              "      <td>1</td>\n",
              "    </tr>\n",
              "    <tr>\n",
              "      <th>YEL</th>\n",
              "      <td>1</td>\n",
              "    </tr>\n",
              "    <tr>\n",
              "      <th>YL</th>\n",
              "      <td>1</td>\n",
              "    </tr>\n",
              "    <tr>\n",
              "      <th>Z1UT</th>\n",
              "      <td>1</td>\n",
              "    </tr>\n",
              "  </tbody>\n",
              "</table>\n",
              "<p>967 rows × 1 columns</p>\n",
              "</div>"
            ],
            "application/vnd.google.colaboratory.intrinsic+json": {
              "type": "dataframe",
              "summary": "{\n  \"name\": \"get_ipython()\",\n  \"rows\": 967,\n  \"fields\": [\n    {\n      \"column\": \"Vehicle Body Type\",\n      \"properties\": {\n        \"dtype\": \"string\",\n        \"num_unique_values\": 967,\n        \"samples\": [\n          \"10\",\n          \"CBU\",\n          \"OX\"\n        ],\n        \"semantic_type\": \"\",\n        \"description\": \"\"\n      }\n    },\n    {\n      \"column\": \"Summons Number\",\n      \"properties\": {\n        \"dtype\": \"number\",\n        \"std\": 255877,\n        \"min\": 1,\n        \"max\": 6449007,\n        \"num_unique_values\": 187,\n        \"samples\": [\n          2,\n          757,\n          1900\n        ],\n        \"semantic_type\": \"\",\n        \"description\": \"\"\n      }\n    }\n  ]\n}"
            }
          },
          "metadata": {},
          "execution_count": 17
        }
      ]
    },
    {
      "cell_type": "code",
      "source": [],
      "metadata": {
        "id": "pEujRcke6Eao"
      },
      "execution_count": null,
      "outputs": []
    },
    {
      "cell_type": "code",
      "source": [],
      "metadata": {
        "id": "61FGFdBMy9J8"
      },
      "execution_count": null,
      "outputs": []
    },
    {
      "cell_type": "markdown",
      "source": [
        "# NVIDIA RAPID CODe"
      ],
      "metadata": {
        "id": "4ps2F8fq1T-g"
      }
    },
    {
      "cell_type": "code",
      "source": [
        "get_ipython().kernel.do_shutdown(restart=True)"
      ],
      "metadata": {
        "colab": {
          "base_uri": "https://localhost:8080/"
        },
        "id": "e-5LMD0uy9T7",
        "outputId": "75d3d79f-0f71-410d-cb6a-71af596ed2b2"
      },
      "execution_count": null,
      "outputs": [
        {
          "output_type": "execute_result",
          "data": {
            "text/plain": [
              "{'status': 'ok', 'restart': True}"
            ]
          },
          "metadata": {},
          "execution_count": 14
        }
      ]
    },
    {
      "cell_type": "code",
      "source": [
        "!nvidia-smi"
      ],
      "metadata": {
        "colab": {
          "base_uri": "https://localhost:8080/"
        },
        "id": "V4ly1_Pf34SZ",
        "outputId": "e7409443-20e7-4064-9255-bbc208a1efb8"
      },
      "execution_count": null,
      "outputs": [
        {
          "output_type": "stream",
          "name": "stdout",
          "text": [
            "Mon Nov 25 15:18:36 2024       \n",
            "+---------------------------------------------------------------------------------------+\n",
            "| NVIDIA-SMI 535.104.05             Driver Version: 535.104.05   CUDA Version: 12.2     |\n",
            "|-----------------------------------------+----------------------+----------------------+\n",
            "| GPU  Name                 Persistence-M | Bus-Id        Disp.A | Volatile Uncorr. ECC |\n",
            "| Fan  Temp   Perf          Pwr:Usage/Cap |         Memory-Usage | GPU-Util  Compute M. |\n",
            "|                                         |                      |               MIG M. |\n",
            "|=========================================+======================+======================|\n",
            "|   0  Tesla T4                       Off | 00000000:00:04.0 Off |                    0 |\n",
            "| N/A   48C    P8              10W /  70W |      0MiB / 15360MiB |      0%      Default |\n",
            "|                                         |                      |                  N/A |\n",
            "+-----------------------------------------+----------------------+----------------------+\n",
            "                                                                                         \n",
            "+---------------------------------------------------------------------------------------+\n",
            "| Processes:                                                                            |\n",
            "|  GPU   GI   CI        PID   Type   Process name                            GPU Memory |\n",
            "|        ID   ID                                                             Usage      |\n",
            "|=======================================================================================|\n",
            "|  No running processes found                                                           |\n",
            "+---------------------------------------------------------------------------------------+\n"
          ]
        }
      ]
    },
    {
      "cell_type": "code",
      "source": [
        "import cudf"
      ],
      "metadata": {
        "id": "QCXZ6SKt3hv9"
      },
      "execution_count": null,
      "outputs": []
    },
    {
      "cell_type": "code",
      "source": [
        "%load_ext cudf.pandas"
      ],
      "metadata": {
        "id": "GhrmeH88y9Wo"
      },
      "execution_count": null,
      "outputs": []
    },
    {
      "cell_type": "code",
      "source": [
        "%%time\n",
        "import pandas as pd\n",
        "df1 = pd.read_parquet(\"nyc_parking_violations_2022.parquet\",columns=[\"Registration State\",\"Violation Description\",\"Vehicle Body Type\",\"Issue Date\",\"Summons Number\"])"
      ],
      "metadata": {
        "id": "AUR1blvFepIs"
      },
      "execution_count": null,
      "outputs": []
    },
    {
      "cell_type": "code",
      "source": [
        "%%time\n",
        "import pandas as pd\n",
        "df1 = cudf.read_parquet(\"nyc_parking_violations_2022.parquet\",columns=[\"Registration State\",\"Violation Description\",\"Vehicle Body Type\",\"Issue Date\",\"Summons Number\"])"
      ],
      "metadata": {
        "colab": {
          "base_uri": "https://localhost:8080/"
        },
        "id": "A76gqM9l40wp",
        "outputId": "0c7d1d2d-5b66-49f7-f0f6-870eb5e3e592"
      },
      "execution_count": null,
      "outputs": [
        {
          "output_type": "stream",
          "name": "stdout",
          "text": [
            "CPU times: user 561 ms, sys: 302 ms, total: 862 ms\n",
            "Wall time: 1.04 s\n"
          ]
        }
      ]
    },
    {
      "cell_type": "code",
      "source": [
        "%%time\n",
        "df1.sample(10)"
      ],
      "metadata": {
        "colab": {
          "base_uri": "https://localhost:8080/",
          "height": 397
        },
        "id": "SC_GA9yR5GAT",
        "outputId": "8565c13e-aa7a-4ccd-bf79-1a9efcb4e5e2"
      },
      "execution_count": null,
      "outputs": [
        {
          "output_type": "stream",
          "name": "stdout",
          "text": [
            "CPU times: user 2.43 s, sys: 1.29 s, total: 3.72 s\n",
            "Wall time: 3.63 s\n"
          ]
        },
        {
          "output_type": "execute_result",
          "data": {
            "text/plain": [
              "         Registration State           Violation Description Vehicle Body Type  \\\n",
              "12843523                 NY  PHTO SCHOOL ZN SPEED VIOLATION              SUBN   \n",
              "14664416                 NY  PHTO SCHOOL ZN SPEED VIOLATION              SUBN   \n",
              "14065598                 NY              BUS LANE VIOLATION              SUBN   \n",
              "9021497                  NY  PHTO SCHOOL ZN SPEED VIOLATION               LIM   \n",
              "14593865                 NY  PHTO SCHOOL ZN SPEED VIOLATION              SUBN   \n",
              "8135887                  NY  70A-Reg. Sticker Expired (NYS)              4DSD   \n",
              "7613238                  NY        74-Missing Display Plate              4DSD   \n",
              "2897830                  NY  PHTO SCHOOL ZN SPEED VIOLATION              SUBN   \n",
              "11836654                 NY    21-No Parking (street clean)              SUBN   \n",
              "1836419                  NY              BUS LANE VIOLATION               VAN   \n",
              "\n",
              "          Issue Date  Summons Number  \n",
              "12843523  05/24/2022      4780210290  \n",
              "14664416  06/16/2022      4783217713  \n",
              "14065598  05/26/2022      4024273905  \n",
              "9021497   02/03/2022      4766905829  \n",
              "14593865  06/07/2022      4781798305  \n",
              "8135887   01/25/2022      8868849744  \n",
              "7613238   12/22/2021      8892361429  \n",
              "2897830   09/03/2021      4747324938  \n",
              "11836654  03/30/2022      8765796391  \n",
              "1836419   07/20/2021      4018291930  "
            ],
            "text/html": [
              "<div>\n",
              "<style scoped>\n",
              "    .dataframe tbody tr th:only-of-type {\n",
              "        vertical-align: middle;\n",
              "    }\n",
              "\n",
              "    .dataframe tbody tr th {\n",
              "        vertical-align: top;\n",
              "    }\n",
              "\n",
              "    .dataframe thead th {\n",
              "        text-align: right;\n",
              "    }\n",
              "</style>\n",
              "<table border=\"1\" class=\"dataframe\">\n",
              "  <thead>\n",
              "    <tr style=\"text-align: right;\">\n",
              "      <th></th>\n",
              "      <th>Registration State</th>\n",
              "      <th>Violation Description</th>\n",
              "      <th>Vehicle Body Type</th>\n",
              "      <th>Issue Date</th>\n",
              "      <th>Summons Number</th>\n",
              "    </tr>\n",
              "  </thead>\n",
              "  <tbody>\n",
              "    <tr>\n",
              "      <th>12843523</th>\n",
              "      <td>NY</td>\n",
              "      <td>PHTO SCHOOL ZN SPEED VIOLATION</td>\n",
              "      <td>SUBN</td>\n",
              "      <td>05/24/2022</td>\n",
              "      <td>4780210290</td>\n",
              "    </tr>\n",
              "    <tr>\n",
              "      <th>14664416</th>\n",
              "      <td>NY</td>\n",
              "      <td>PHTO SCHOOL ZN SPEED VIOLATION</td>\n",
              "      <td>SUBN</td>\n",
              "      <td>06/16/2022</td>\n",
              "      <td>4783217713</td>\n",
              "    </tr>\n",
              "    <tr>\n",
              "      <th>14065598</th>\n",
              "      <td>NY</td>\n",
              "      <td>BUS LANE VIOLATION</td>\n",
              "      <td>SUBN</td>\n",
              "      <td>05/26/2022</td>\n",
              "      <td>4024273905</td>\n",
              "    </tr>\n",
              "    <tr>\n",
              "      <th>9021497</th>\n",
              "      <td>NY</td>\n",
              "      <td>PHTO SCHOOL ZN SPEED VIOLATION</td>\n",
              "      <td>LIM</td>\n",
              "      <td>02/03/2022</td>\n",
              "      <td>4766905829</td>\n",
              "    </tr>\n",
              "    <tr>\n",
              "      <th>14593865</th>\n",
              "      <td>NY</td>\n",
              "      <td>PHTO SCHOOL ZN SPEED VIOLATION</td>\n",
              "      <td>SUBN</td>\n",
              "      <td>06/07/2022</td>\n",
              "      <td>4781798305</td>\n",
              "    </tr>\n",
              "    <tr>\n",
              "      <th>8135887</th>\n",
              "      <td>NY</td>\n",
              "      <td>70A-Reg. Sticker Expired (NYS)</td>\n",
              "      <td>4DSD</td>\n",
              "      <td>01/25/2022</td>\n",
              "      <td>8868849744</td>\n",
              "    </tr>\n",
              "    <tr>\n",
              "      <th>7613238</th>\n",
              "      <td>NY</td>\n",
              "      <td>74-Missing Display Plate</td>\n",
              "      <td>4DSD</td>\n",
              "      <td>12/22/2021</td>\n",
              "      <td>8892361429</td>\n",
              "    </tr>\n",
              "    <tr>\n",
              "      <th>2897830</th>\n",
              "      <td>NY</td>\n",
              "      <td>PHTO SCHOOL ZN SPEED VIOLATION</td>\n",
              "      <td>SUBN</td>\n",
              "      <td>09/03/2021</td>\n",
              "      <td>4747324938</td>\n",
              "    </tr>\n",
              "    <tr>\n",
              "      <th>11836654</th>\n",
              "      <td>NY</td>\n",
              "      <td>21-No Parking (street clean)</td>\n",
              "      <td>SUBN</td>\n",
              "      <td>03/30/2022</td>\n",
              "      <td>8765796391</td>\n",
              "    </tr>\n",
              "    <tr>\n",
              "      <th>1836419</th>\n",
              "      <td>NY</td>\n",
              "      <td>BUS LANE VIOLATION</td>\n",
              "      <td>VAN</td>\n",
              "      <td>07/20/2021</td>\n",
              "      <td>4018291930</td>\n",
              "    </tr>\n",
              "  </tbody>\n",
              "</table>\n",
              "</div>"
            ],
            "application/vnd.google.colaboratory.intrinsic+json": {
              "type": "dataframe",
              "repr_error": "0"
            }
          },
          "metadata": {},
          "execution_count": 25
        }
      ]
    },
    {
      "cell_type": "code",
      "source": [
        "%%time\n",
        "(df1[[\"Registration State\",\"Violation Description\"]].value_counts().groupby(\"Registration State\").head(1).sort_index().reset_index())"
      ],
      "metadata": {
        "colab": {
          "base_uri": "https://localhost:8080/",
          "height": 458
        },
        "id": "DzqCTJcr548f",
        "outputId": "02da70a0-2e92-44cb-c42f-097013f379ca"
      },
      "execution_count": null,
      "outputs": [
        {
          "output_type": "stream",
          "name": "stdout",
          "text": [
            "CPU times: user 23.1 s, sys: 2.73 s, total: 25.8 s\n",
            "Wall time: 25.4 s\n"
          ]
        },
        {
          "output_type": "execute_result",
          "data": {
            "text/plain": [
              "   Registration State           Violation Description  count\n",
              "0                  99                            <NA>  17550\n",
              "1                  AB                  14-No Standing     22\n",
              "2                  AK  PHTO SCHOOL ZN SPEED VIOLATION    125\n",
              "3                  AL  PHTO SCHOOL ZN SPEED VIOLATION   3668\n",
              "4                  AR  PHTO SCHOOL ZN SPEED VIOLATION    537\n",
              "..                ...                             ...    ...\n",
              "62                 VT  PHTO SCHOOL ZN SPEED VIOLATION   3024\n",
              "63                 WA    21-No Parking (street clean)   3732\n",
              "64                 WI                  14-No Standing   1639\n",
              "65                 WV  PHTO SCHOOL ZN SPEED VIOLATION   1185\n",
              "66                 WY    21-No Parking (street clean)    138\n",
              "\n",
              "[67 rows x 3 columns]"
            ],
            "text/html": [
              "<div>\n",
              "<style scoped>\n",
              "    .dataframe tbody tr th:only-of-type {\n",
              "        vertical-align: middle;\n",
              "    }\n",
              "\n",
              "    .dataframe tbody tr th {\n",
              "        vertical-align: top;\n",
              "    }\n",
              "\n",
              "    .dataframe thead th {\n",
              "        text-align: right;\n",
              "    }\n",
              "</style>\n",
              "<table border=\"1\" class=\"dataframe\">\n",
              "  <thead>\n",
              "    <tr style=\"text-align: right;\">\n",
              "      <th></th>\n",
              "      <th>Registration State</th>\n",
              "      <th>Violation Description</th>\n",
              "      <th>count</th>\n",
              "    </tr>\n",
              "  </thead>\n",
              "  <tbody>\n",
              "    <tr>\n",
              "      <th>0</th>\n",
              "      <td>99</td>\n",
              "      <td>&lt;NA&gt;</td>\n",
              "      <td>17550</td>\n",
              "    </tr>\n",
              "    <tr>\n",
              "      <th>1</th>\n",
              "      <td>AB</td>\n",
              "      <td>14-No Standing</td>\n",
              "      <td>22</td>\n",
              "    </tr>\n",
              "    <tr>\n",
              "      <th>2</th>\n",
              "      <td>AK</td>\n",
              "      <td>PHTO SCHOOL ZN SPEED VIOLATION</td>\n",
              "      <td>125</td>\n",
              "    </tr>\n",
              "    <tr>\n",
              "      <th>3</th>\n",
              "      <td>AL</td>\n",
              "      <td>PHTO SCHOOL ZN SPEED VIOLATION</td>\n",
              "      <td>3668</td>\n",
              "    </tr>\n",
              "    <tr>\n",
              "      <th>4</th>\n",
              "      <td>AR</td>\n",
              "      <td>PHTO SCHOOL ZN SPEED VIOLATION</td>\n",
              "      <td>537</td>\n",
              "    </tr>\n",
              "    <tr>\n",
              "      <th>...</th>\n",
              "      <td>...</td>\n",
              "      <td>...</td>\n",
              "      <td>...</td>\n",
              "    </tr>\n",
              "    <tr>\n",
              "      <th>62</th>\n",
              "      <td>VT</td>\n",
              "      <td>PHTO SCHOOL ZN SPEED VIOLATION</td>\n",
              "      <td>3024</td>\n",
              "    </tr>\n",
              "    <tr>\n",
              "      <th>63</th>\n",
              "      <td>WA</td>\n",
              "      <td>21-No Parking (street clean)</td>\n",
              "      <td>3732</td>\n",
              "    </tr>\n",
              "    <tr>\n",
              "      <th>64</th>\n",
              "      <td>WI</td>\n",
              "      <td>14-No Standing</td>\n",
              "      <td>1639</td>\n",
              "    </tr>\n",
              "    <tr>\n",
              "      <th>65</th>\n",
              "      <td>WV</td>\n",
              "      <td>PHTO SCHOOL ZN SPEED VIOLATION</td>\n",
              "      <td>1185</td>\n",
              "    </tr>\n",
              "    <tr>\n",
              "      <th>66</th>\n",
              "      <td>WY</td>\n",
              "      <td>21-No Parking (street clean)</td>\n",
              "      <td>138</td>\n",
              "    </tr>\n",
              "  </tbody>\n",
              "</table>\n",
              "<p>67 rows × 3 columns</p>\n",
              "</div>"
            ],
            "application/vnd.google.colaboratory.intrinsic+json": {
              "type": "dataframe",
              "summary": "{\n  \"name\": \"get_ipython()\",\n  \"rows\": 67,\n  \"fields\": [\n    {\n      \"column\": \"Registration State\",\n      \"properties\": {\n        \"dtype\": \"string\",\n        \"num_unique_values\": 67,\n        \"samples\": [\n          \"NC\",\n          \"GV\",\n          \"AR\"\n        ],\n        \"semantic_type\": \"\",\n        \"description\": \"\"\n      }\n    },\n    {\n      \"column\": \"Violation Description\",\n      \"properties\": {\n        \"dtype\": \"category\",\n        \"num_unique_values\": 8,\n        \"samples\": [\n          \"14-No Standing\",\n          \"21-No Parking (street clean)\",\n          \"<NA>\"\n        ],\n        \"semantic_type\": \"\",\n        \"description\": \"\"\n      }\n    },\n    {\n      \"column\": \"count\",\n      \"properties\": {\n        \"dtype\": \"number\",\n        \"std\": 458031,\n        \"min\": 1,\n        \"max\": 3743378,\n        \"num_unique_values\": 67,\n        \"samples\": [\n          31102,\n          2451,\n          537\n        ],\n        \"semantic_type\": \"\",\n        \"description\": \"\"\n      }\n    }\n  ]\n}"
            }
          },
          "metadata": {},
          "execution_count": 22
        }
      ]
    },
    {
      "cell_type": "code",
      "source": [
        "%%time\n",
        "(df1.groupby([\"Vehicle Body Type\"]).agg({\"Summons Number\":\"count\"}).sort_values([\"Summons Number\"],ascending=False))"
      ],
      "metadata": {
        "colab": {
          "base_uri": "https://localhost:8080/",
          "height": 489
        },
        "id": "td9hiNcQ6Fq8",
        "outputId": "71407c5f-959b-45a0-9222-7bac82afc3f4"
      },
      "execution_count": null,
      "outputs": [
        {
          "output_type": "stream",
          "name": "stdout",
          "text": [
            "CPU times: user 18.9 ms, sys: 5.05 ms, total: 24 ms\n",
            "Wall time: 22.1 ms\n"
          ]
        },
        {
          "output_type": "execute_result",
          "data": {
            "text/plain": [
              "                   Summons Number\n",
              "Vehicle Body Type                \n",
              "SUBN                      6449007\n",
              "4DSD                      4402991\n",
              "VAN                       1317899\n",
              "DELV                       436430\n",
              "PICK                       429798\n",
              "...                           ...\n",
              "YANT                            1\n",
              "YBSD                            1\n",
              "YEL                             1\n",
              "YL                              1\n",
              "Z1UT                            1\n",
              "\n",
              "[967 rows x 1 columns]"
            ],
            "text/html": [
              "<div>\n",
              "<style scoped>\n",
              "    .dataframe tbody tr th:only-of-type {\n",
              "        vertical-align: middle;\n",
              "    }\n",
              "\n",
              "    .dataframe tbody tr th {\n",
              "        vertical-align: top;\n",
              "    }\n",
              "\n",
              "    .dataframe thead th {\n",
              "        text-align: right;\n",
              "    }\n",
              "</style>\n",
              "<table border=\"1\" class=\"dataframe\">\n",
              "  <thead>\n",
              "    <tr style=\"text-align: right;\">\n",
              "      <th></th>\n",
              "      <th>Summons Number</th>\n",
              "    </tr>\n",
              "    <tr>\n",
              "      <th>Vehicle Body Type</th>\n",
              "      <th></th>\n",
              "    </tr>\n",
              "  </thead>\n",
              "  <tbody>\n",
              "    <tr>\n",
              "      <th>SUBN</th>\n",
              "      <td>6449007</td>\n",
              "    </tr>\n",
              "    <tr>\n",
              "      <th>4DSD</th>\n",
              "      <td>4402991</td>\n",
              "    </tr>\n",
              "    <tr>\n",
              "      <th>VAN</th>\n",
              "      <td>1317899</td>\n",
              "    </tr>\n",
              "    <tr>\n",
              "      <th>DELV</th>\n",
              "      <td>436430</td>\n",
              "    </tr>\n",
              "    <tr>\n",
              "      <th>PICK</th>\n",
              "      <td>429798</td>\n",
              "    </tr>\n",
              "    <tr>\n",
              "      <th>...</th>\n",
              "      <td>...</td>\n",
              "    </tr>\n",
              "    <tr>\n",
              "      <th>YANT</th>\n",
              "      <td>1</td>\n",
              "    </tr>\n",
              "    <tr>\n",
              "      <th>YBSD</th>\n",
              "      <td>1</td>\n",
              "    </tr>\n",
              "    <tr>\n",
              "      <th>YEL</th>\n",
              "      <td>1</td>\n",
              "    </tr>\n",
              "    <tr>\n",
              "      <th>YL</th>\n",
              "      <td>1</td>\n",
              "    </tr>\n",
              "    <tr>\n",
              "      <th>Z1UT</th>\n",
              "      <td>1</td>\n",
              "    </tr>\n",
              "  </tbody>\n",
              "</table>\n",
              "<p>967 rows × 1 columns</p>\n",
              "</div>"
            ],
            "application/vnd.google.colaboratory.intrinsic+json": {
              "type": "dataframe",
              "summary": "{\n  \"name\": \"get_ipython()\",\n  \"rows\": 967,\n  \"fields\": [\n    {\n      \"column\": \"Vehicle Body Type\",\n      \"properties\": {\n        \"dtype\": \"string\",\n        \"num_unique_values\": 967,\n        \"samples\": [\n          \"10\",\n          \"CBU\",\n          \"OX\"\n        ],\n        \"semantic_type\": \"\",\n        \"description\": \"\"\n      }\n    },\n    {\n      \"column\": \"Summons Number\",\n      \"properties\": {\n        \"dtype\": \"number\",\n        \"std\": 255877,\n        \"min\": 1,\n        \"max\": 6449007,\n        \"num_unique_values\": 187,\n        \"samples\": [\n          2,\n          757,\n          1900\n        ],\n        \"semantic_type\": \"\",\n        \"description\": \"\"\n      }\n    }\n  ]\n}"
            }
          },
          "metadata": {},
          "execution_count": 23
        }
      ]
    }
  ]
}